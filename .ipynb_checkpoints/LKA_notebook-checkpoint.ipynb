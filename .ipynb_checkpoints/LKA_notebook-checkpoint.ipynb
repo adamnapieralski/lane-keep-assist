{
 "cells": [
  {
   "cell_type": "markdown",
   "metadata": {},
   "source": [
    "Załączenie bibliotek, których funkcje będą wykorzystywane"
   ]
  },
  {
   "cell_type": "code",
   "execution_count": null,
   "metadata": {},
   "outputs": [],
   "source": [
    "import cv2\n",
    "import numpy as np\n",
    "import glob\n",
    "import matplotlib.pyplot as plt\n",
    "import matplotlib.image as mpimg\n",
    "\n",
    "%matplotlib inline\n"
   ]
  },
  {
   "cell_type": "code",
   "execution_count": null,
   "metadata": {},
   "outputs": [],
   "source": [
    "def calibrateCamera():\n",
    "    objPoints = []\n",
    "        imgPoints = []\n",
    "        objPt = np.zeros((self.calibChessboardPattern[0] * self.calibChessboardPattern[1], 3), np.float32)\n",
    "        objPt[:, :2] = np.mgrid[0:self.calibChessboardPattern[0], 0:self.calibChessboardPattern[1]].T.reshape(-1, 2)\n",
    "        "
   ]
  }
 ],
 "metadata": {
  "kernelspec": {
   "display_name": "Python 2",
   "language": "python",
   "name": "python2"
  },
  "language_info": {
   "codemirror_mode": {
    "name": "ipython",
    "version": 3
   },
   "file_extension": ".py",
   "mimetype": "text/x-python",
   "name": "python",
   "nbconvert_exporter": "python",
   "pygments_lexer": "ipython3",
   "version": "3.6.7"
  }
 },
 "nbformat": 4,
 "nbformat_minor": 1
}
