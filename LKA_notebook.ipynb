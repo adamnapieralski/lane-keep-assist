{
 "cells": [
  {
   "cell_type": "code",
   "execution_count": null,
   "metadata": {},
   "outputs": [],
   "source": [
    "import cv2\n",
    "import numpy as np\n",
    "import glob\n",
    "import matplotlib.pyplot as plt\n",
    "import matplotlib.image as mpimg\n",
    "\n",
    "%matplotlib inline\n"
   ]
  },
  {
   "cell_type": "code",
   "execution_count": null,
   "metadata": {},
   "outputs": [],
   "source": [
    "def calibrateCamera():\n",
    "    calChessboardPattern = (6, 6)\n",
    "    calImgsPath = glob.glob(\"./ccalib-test-images-2/720x1280/*.jpg\")\n",
    "    calImgSize = (1280, 720)\n",
    "    \n",
    "    objPoints = []\n",
    "    imgPoints = []\n",
    "    \n",
    "    objPt = np.zeros((calChessboardPattern[0] * calChessboardPattern[1], 3), np.float32)\n",
    "    objPt[:, :2] = np.mgrid[0:calChessboardPattern[0], 0:calChessboardPattern[1]].T.reshape(-1, 2)\n",
    "    \n",
    "    \n",
    "    w = 20\n",
    "    h = 20\n",
    "    fig = plt.figure(figsize=(16, 16))\n",
    "    columns = 3\n",
    "    rows = 5\n",
    "    i = 1\n",
    "    \n",
    "    for image in calImgsPath:\n",
    "        calImg = cv2.imread(image)\n",
    "        ret, corners = cv2.findChessboardCorners(calImg, calChessboardPattern)\n",
    "        \n",
    "        if ret:\n",
    "            imgPoints.append(corners)\n",
    "            objPoints.append(objPt)\n",
    "            cv2.drawChessboardCorners(calImg, calChessboardPattern, corners, ret)\n",
    "            if i <= rows * columns:\n",
    "                fig.add_subplot(rows, columns, i)\n",
    "                plt.imshow(calImg)\n",
    "                i += 1\n",
    "\n",
    "    plt.show()\n",
    "    \n",
    "        "
   ]
  },
  {
   "cell_type": "code",
   "execution_count": null,
   "metadata": {},
   "outputs": [],
   "source": [
    "calibrateCamera()"
   ]
  }
 ],
 "metadata": {
  "kernelspec": {
   "display_name": "Python 2",
   "language": "python",
   "name": "python2"
  },
  "language_info": {
   "codemirror_mode": {
    "name": "ipython",
    "version": 3
   },
   "file_extension": ".py",
   "mimetype": "text/x-python",
   "name": "python",
   "nbconvert_exporter": "python",
   "pygments_lexer": "ipython3",
   "version": "3.6.7"
  }
 },
 "nbformat": 4,
 "nbformat_minor": 1
}
