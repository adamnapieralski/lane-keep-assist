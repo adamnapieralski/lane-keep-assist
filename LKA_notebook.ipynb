{
 "cells": [
  {
   "cell_type": "code",
   "execution_count": null,
   "metadata": {},
   "outputs": [],
   "source": [
    "import cv2\n",
    "import numpy as np\n",
    "import glob\n",
    "import matplotlib.pyplot as plt\n",
    "import matplotlib.image as mpimg\n",
    "\n",
    "%matplotlib inline\n"
   ]
  },
  {
   "cell_type": "code",
   "execution_count": null,
   "metadata": {},
   "outputs": [],
   "source": [
    "imgSize = (1280, 720)\n",
    "\n",
    "calChessboardPattern = (4, 4)\n",
    "calImgsPath = glob.glob(\"./ccalib-test-images-3/*.jpg\")\n",
    "\n",
    "objPoints = []\n",
    "imgPoints = []\n",
    "\n",
    "objPt = np.zeros((calChessboardPattern[0] * calChessboardPattern[1], 3), np.float32)\n",
    "objPt[:, :2] = np.mgrid[0:calChessboardPattern[0], 0:calChessboardPattern[1]].T.reshape(-1, 2)\n",
    "\n",
    "fig = plt.figure(figsize=(16, 14))\n",
    "fig.suptitle(\"Part of sample chessboard images for camera calibration\", fontsize=32)\n",
    "columns = 3\n",
    "rows = 6\n",
    "i = 1\n",
    "\n",
    "for image in calImgsPath:\n",
    "    calImg = cv2.imread(image)\n",
    "    ret, corners = cv2.findChessboardCorners(calImg, calChessboardPattern)\n",
    "    \n",
    "    if ret:\n",
    "        imgPoints.append(corners)\n",
    "        objPoints.append(objPt)\n",
    "        cv2.drawChessboardCorners(calImg, calChessboardPattern, corners, ret)\n",
    "        if i <= rows * columns:\n",
    "            sub_i = fig.add_subplot(rows, columns, i)\n",
    "            sub_i.set_title(\"cos\")\n",
    "            plt.imshow(calImg)\n",
    "            i += 1\n",
    "        else:\n",
    "            break\n",
    "plt.show()"
   ]
  },
  {
   "cell_type": "code",
   "execution_count": null,
   "metadata": {},
   "outputs": [],
   "source": [
    "retval, cameraMatrix, distCoeffs, rvecs, tvecs = cv2.calibrateCamera(objPoints, imgPoints, imgSize, None, None)"
   ]
  },
  {
   "cell_type": "code",
   "execution_count": null,
   "metadata": {},
   "outputs": [],
   "source": [
    "print(\"Camera matrix: \\n\", cameraMatrix)\n",
    "print(\"\\nDistortion coefficients: \\n\", distCoeffs)"
   ]
  },
  {
   "cell_type": "code",
   "execution_count": null,
   "metadata": {},
   "outputs": [],
   "source": [
    "optimAlpha = 1\n",
    "optimCameraMatrix, cameraROI = cv2.getOptimalNewCameraMatrix(cameraMatrix, distCoeffs, imgSize, optimAlpha)\n",
    "print(\"Optimal camera matrix: \\n\", optimCameraMatrix)\n",
    "print(\"\\nRegion of interest:\\n\", cameraROI)"
   ]
  },
  {
   "cell_type": "code",
   "execution_count": null,
   "metadata": {},
   "outputs": [],
   "source": [
    "def undistortImage(img):\n",
    "    imgUndistRaw = imgUndist = cv2.undistort(img, cameraMatrix, distCoeffs, None, optimCameraMatrix)\n",
    "    x, y, w, h = cameraROI\n",
    "    x, y, w, h = int(x), int(y), int(w), int(h)\n",
    "    imgUndistCrop = imgUndist[y:y + h, x:x + w]\n",
    "    imgUndistScaled = cv2.resize(imgUndistCrop, imgSize)\n",
    "    return imgUndistScaled, imgUndistCrop, imgUndistRaw"
   ]
  },
  {
   "cell_type": "code",
   "execution_count": null,
   "metadata": {},
   "outputs": [],
   "source": [
    "testImg = cv2.imread(\"./samples/double_chessboard_1.jpg\")\n",
    "testUndistScaled, testUndistCrop, testUndistRaw = undistortImage(testImg)\n",
    "fig = plt.figure(figsize=(16, 8))\n",
    "\n",
    "sub1 = fig.add_subplot(2, 2, 1)\n",
    "sub1.set_title(\"Original image\")\n",
    "plt.imshow(testImg)\n",
    "\n",
    "sub2 = fig.add_subplot(2, 2, 2)\n",
    "sub2.set_title(\"Raw undistorted image\")\n",
    "plt.imshow(testUndistRaw)\n",
    "\n",
    "sub3 = fig.add_subplot(2, 2, 3)\n",
    "sub3.set_title(\"Undistorted cropped to ROI image\")\n",
    "plt.imshow(testUndistCrop)\n",
    "           \n",
    "sub4 = fig.add_subplot(2, 2, 4)\n",
    "sub4.set_title(\"Undistorted scaled image\")\n",
    "plt.imshow(testUndistScaled)\n",
    "cv2.imwrite(\"./samples/double_chessboard_1_result.jpg\", testUndistScaled)"
   ]
  },
  {
   "cell_type": "code",
   "execution_count": null,
   "metadata": {},
   "outputs": [],
   "source": [
    "sampleRoadImgs = glob.glob(\"./samples/road_samples_1/*.png\")\n",
    "\n",
    "fig = plt.figure(figsize=(16, 16))\n",
    "fig.suptitle(\"Part of sample chessboard images for camera calibration\", fontsize=32)\n",
    "columns = 2\n",
    "rows = 4\n",
    "i = 1\n",
    "\n",
    "for image in sampleRoadImgs:\n",
    "    if i <= columns * rows:\n",
    "        img = cv2.imread(image)\n",
    "        sub_i = fig.add_subplot(rows, columns, i)\n",
    "        plt.imshow(img)\n",
    "        i += 1\n",
    "        testUndistScaled, testUndistCrop, testUndistRaw = undistortImage(img)\n",
    "        sub_i = fig.add_subplot(rows, columns, i)\n",
    "        plt.imshow(testUndistScaled)\n",
    "        i += 1\n",
    "    else:\n",
    "        break\n",
    "plt.show()"
   ]
  },
  {
   "cell_type": "code",
   "execution_count": null,
   "metadata": {},
   "outputs": [],
   "source": []
  }
 ],
 "metadata": {
  "kernelspec": {
   "display_name": "Python 2",
   "language": "python",
   "name": "python2"
  },
  "language_info": {
   "codemirror_mode": {
    "name": "ipython",
    "version": 3
   },
   "file_extension": ".py",
   "mimetype": "text/x-python",
   "name": "python",
   "nbconvert_exporter": "python",
   "pygments_lexer": "ipython3",
   "version": "3.6.7"
  }
 },
 "nbformat": 4,
 "nbformat_minor": 1
}
