{
 "cells": [
  {
   "cell_type": "code",
   "execution_count": null,
   "metadata": {},
   "outputs": [],
   "source": [
    "import cv2\n",
    "import numpy as np\n",
    "import glob\n",
    "import os\n",
    "import matplotlib.pyplot as plt\n",
    "\n",
    "from ipywidgets import interact, interactive, fixed, interact_manual\n",
    "import ipywidgets as widgets\n",
    "from IPython.display import display\n",
    "\n",
    "%matplotlib inline\n"
   ]
  },
  {
   "cell_type": "code",
   "execution_count": null,
   "metadata": {},
   "outputs": [],
   "source": [
    "imgSize = (1280, 720)\n",
    "\n",
    "calChessboardPattern = (4, 4)\n",
    "calImgsPath = glob.glob(\"./ccalib-test-images-3/*.jpg\")\n",
    "\n",
    "objPoints = []\n",
    "imgPoints = []\n",
    "\n",
    "objPt = np.zeros((calChessboardPattern[0] * calChessboardPattern[1], 3), np.float32)\n",
    "objPt[:, :2] = np.mgrid[0:calChessboardPattern[0], 0:calChessboardPattern[1]].T.reshape(-1, 2)\n",
    "\n",
    "fig = plt.figure(figsize=(16, 14))\n",
    "fig.suptitle(\"Part of sample chessboard images for camera calibration\", fontsize=32)\n",
    "columns = 3\n",
    "rows = 6\n",
    "i = 1\n",
    "\n",
    "for image in calImgsPath:\n",
    "    calImg = cv2.imread(image)\n",
    "    ret, corners = cv2.findChessboardCorners(calImg, calChessboardPattern)\n",
    "    \n",
    "    if ret:\n",
    "        imgPoints.append(corners)\n",
    "        objPoints.append(objPt)\n",
    "        cv2.drawChessboardCorners(calImg, calChessboardPattern, corners, ret)\n",
    "        if i <= rows * columns:\n",
    "            sub_i = fig.add_subplot(rows, columns, i)\n",
    "            sub_i.set_title(\"cos\")\n",
    "            plt.imshow(calImg)\n",
    "            i += 1\n",
    "        else:\n",
    "            break\n",
    "plt.show()"
   ]
  },
  {
   "cell_type": "code",
   "execution_count": null,
   "metadata": {},
   "outputs": [],
   "source": [
    "retval, cameraMatrix, distCoeffs, rvecs, tvecs = cv2.calibrateCamera(objPoints, imgPoints, imgSize, None, None)"
   ]
  },
  {
   "cell_type": "code",
   "execution_count": null,
   "metadata": {},
   "outputs": [],
   "source": [
    "print(\"Camera matrix: \\n\", cameraMatrix)\n",
    "print(\"\\nDistortion coefficients: \\n\", distCoeffs)"
   ]
  },
  {
   "cell_type": "code",
   "execution_count": null,
   "metadata": {},
   "outputs": [],
   "source": [
    "optimAlpha = 1\n",
    "optimCameraMatrix, cameraROI = cv2.getOptimalNewCameraMatrix(cameraMatrix, distCoeffs, imgSize, optimAlpha)\n",
    "print(\"Optimal camera matrix: \\n\", optimCameraMatrix)\n",
    "print(\"\\nRegion of interest:\\n\", cameraROI)"
   ]
  },
  {
   "cell_type": "code",
   "execution_count": null,
   "metadata": {},
   "outputs": [],
   "source": [
    "def undistortImage(img):\n",
    "    imgUndistRaw = imgUndist = cv2.undistort(img, cameraMatrix, distCoeffs, None, optimCameraMatrix)\n",
    "    x, y, w, h = cameraROI\n",
    "    x, y, w, h = int(x), int(y), int(w), int(h)\n",
    "    imgUndistCrop = imgUndist[y:y + h, x:x + w]\n",
    "    imgUndistScaled = cv2.resize(imgUndistCrop, imgSize)\n",
    "    return imgUndistScaled, imgUndistCrop, imgUndistRaw"
   ]
  },
  {
   "cell_type": "code",
   "execution_count": null,
   "metadata": {},
   "outputs": [],
   "source": [
    "testImg = cv2.imread(\"./samples/double_chessboard_1.jpg\")\n",
    "testUndistScaled, testUndistCrop, testUndistRaw = undistortImage(testImg)\n",
    "fig = plt.figure(figsize=(16, 8))\n",
    "\n",
    "sub1 = fig.add_subplot(2, 2, 1)\n",
    "sub1.set_title(\"Original image\")\n",
    "plt.imshow(testImg)\n",
    "\n",
    "sub2 = fig.add_subplot(2, 2, 2)\n",
    "sub2.set_title(\"Raw undistorted image\")\n",
    "plt.imshow(testUndistRaw)\n",
    "\n",
    "sub3 = fig.add_subplot(2, 2, 3)\n",
    "sub3.set_title(\"Undistorted cropped to ROI image\")\n",
    "plt.imshow(testUndistCrop)\n",
    "           \n",
    "sub4 = fig.add_subplot(2, 2, 4)\n",
    "sub4.set_title(\"Undistorted scaled image\")\n",
    "plt.imshow(testUndistScaled)\n",
    "cv2.imwrite(\"./samples/double_chessboard_1_result.jpg\", testUndistScaled)"
   ]
  },
  {
   "cell_type": "code",
   "execution_count": null,
   "metadata": {},
   "outputs": [],
   "source": [
    "sampleRoadImgs = glob.glob(\"./samples/road_samples_1/raw/*.png\")\n",
    "\n",
    "fig = plt.figure(figsize=(16, 16))\n",
    "fig.suptitle(\"Part of sample chessboard images for camera calibration\", fontsize=32)\n",
    "columns = 2\n",
    "rows = 4\n",
    "i = 1\n",
    "\n",
    "for image in sampleRoadImgs:\n",
    "    img = cv2.imread(image)\n",
    "    imgUndist, _, _ = undistortImage(img)\n",
    "    cv2.imwrite(\"./samples/road_samples_1/undistorted/\"+os.path.basename(image).replace(\".png\", \"_undist.png\"), imgUndist)\n",
    "    if i <= columns * rows:\n",
    "        sub_i = fig.add_subplot(rows, columns, i).axis('off')\n",
    "        plt.imshow(img)\n",
    "        i += 1\n",
    "        sub_i = fig.add_subplot(rows, columns, i).axis('off')\n",
    "        plt.imshow(imgUndist)\n",
    "        i += 1\n",
    "plt.show()"
   ]
  },
  {
   "cell_type": "code",
   "execution_count": null,
   "metadata": {},
   "outputs": [],
   "source": [
    "srcWarpPoints = np.float32([[23, imgSize[1]], [1216, imgSize[1]],\n",
    "                        [757, imgSize[1] * 0.55], [527, imgSize[1] * 0.55]])\n",
    "\n",
    "dstWarpPoints = np.float32([[imgSize[0] / 4, imgSize[1]],\n",
    "                         [imgSize[0] * 3 / 4, imgSize[1]],\n",
    "                         [imgSize[0] * 3 / 4, 0],\n",
    "                         [imgSize[0] / 4, 0]])\n",
    "\n",
    "warpMatrix = cv2.getPerspectiveTransform(srcWarpPoints, dstWarpPoints)\n",
    "\n",
    "def drawWarpLines(img, imgWarped):\n",
    "    for i in range(4):\n",
    "        cv2.line(img, tuple(srcWarpPoints[i]), tuple(srcWarpPoints[(i + 1) % 4]), (255, 0, 0), thickness=10)\n",
    "        cv2.line(imgWarped, tuple(dstWarpPoints[i]), tuple(dstWarpPoints[(i + 1) % 4]), (255, 0, 0), thickness=10)\n",
    "    return img, imgWarped\n",
    "\n",
    "blackOrg = np.zeros(imgSize[::-1])\n",
    "blackWarp = np.zeros(imgSize[::-1])\n",
    "blackOrg, blackWarp = drawWarpLines(blackOrg, blackWarp)\n",
    "\n",
    "fig = plt.figure(figsize=(16, 8))\n",
    "fig.add_subplot(1, 2, 1).axis('off')\n",
    "plt.imshow(blackOrg)\n",
    "fig.add_subplot(1, 2, 2).axis('off')\n",
    "plt.imshow(blackWarp)"
   ]
  },
  {
   "cell_type": "code",
   "execution_count": null,
   "metadata": {},
   "outputs": [],
   "source": [
    "def warpView(img):\n",
    "    imgWarped = cv2.warpPerspective(img, warpMatrix, imgSize)\n",
    "    return imgWarped"
   ]
  },
  {
   "cell_type": "code",
   "execution_count": null,
   "metadata": {},
   "outputs": [],
   "source": [
    "sampleRoadImgs = glob.glob(\"./samples/road_samples_1/undistorted/*.png\")\n",
    "\n",
    "fig = plt.figure(figsize=(16, 16))\n",
    "columns = 2\n",
    "rows = 6\n",
    "i = 1\n",
    "\n",
    "for image in sampleRoadImgs:\n",
    "    img = cv2.imread(image)\n",
    "    imgWarped = warpView(img)\n",
    "    cv2.imwrite(\"./samples/road_samples_1/warped/\"+os.path.basename(image).replace(\"_undist.png\", \"_warped.png\"), imgWarped)\n",
    "    if i <= columns * rows:\n",
    "        img, imgWarped = drawWarpLines(img, imgWarped)\n",
    "        sub_i = fig.add_subplot(rows, columns, i).axis('off')\n",
    "        plt.imshow(img)\n",
    "        i += 1\n",
    "        sub_i = fig.add_subplot(rows, columns, i).axis('off')\n",
    "        plt.imshow(imgWarped)\n",
    "        i += 1\n",
    "plt.show()"
   ]
  },
  {
   "cell_type": "code",
   "execution_count": null,
   "metadata": {},
   "outputs": [],
   "source": [
    "# sampleRoadImgs = glob.glob(\"./samples/road_samples_1/warped/*.png\")\n",
    "\n",
    "# for image in sampleRoadImgs:\n",
    "fig = plt.figure(figsize=(16, 16))\n",
    "columns = 3\n",
    "rows = 5\n",
    "# imgRGB = cv2.imread(image)\n",
    "imgBGR = cv2.imread(\"./samples/road_samples_1/warped/yellow_white_sample_warped.png\")\n",
    "imgRGB = cv2.cvtColor(imgBGR, cv2.COLOR_BGR2RGB)\n",
    "\n",
    "imgRGB_R, imgRGB_G, imgRGB_B = cv2.split(imgBGR)\n",
    "\n",
    "imgHSV = cv2.cvtColor(imgRGB, cv2.COLOR_RGB2HSV)\n",
    "imgHSV_H, imgHSV_S, imgHSV_V = cv2.split(imgHSV)\n",
    "\n",
    "imgHLS = cv2.cvtColor(imgRGB, cv2.COLOR_RGB2HLS)\n",
    "imgHLS_H, imgHLS_L, imgHLS_S = cv2.split(imgHLS)\n",
    "\n",
    "imgLUV = cv2.cvtColor(imgRGB, cv2.COLOR_RGB2LUV)\n",
    "imgLUV_L, imgLUV_U, imgLUV_V = cv2.split(imgLUV)\n",
    "\n",
    "imgLAB = cv2.cvtColor(imgRGB, cv2.COLOR_RGB2LAB)\n",
    "imgLAB_L, imgLAB_A, imgLAB_B = cv2.split(imgLAB)\n",
    "\n",
    "subRGB_R = fig.add_subplot(rows, columns, 1)\n",
    "subRGB_R.axis('off')\n",
    "subRGB_R.set_title('R')\n",
    "plt.imshow(imgRGB_R, cmap='gray')\n",
    "subRGB_G = fig.add_subplot(rows, columns, 2)\n",
    "subRGB_G.axis('off')\n",
    "subRGB_G.set_title('G')\n",
    "plt.imshow(imgRGB_G, cmap='gray')\n",
    "subRGB_B = fig.add_subplot(rows, columns, 3)\n",
    "subRGB_B.axis('off')\n",
    "subRGB_B.set_title('B')\n",
    "plt.imshow(imgRGB_B, cmap='gray')\n",
    "\n",
    "subHSV_H = fig.add_subplot(rows, columns, 4)\n",
    "subHSV_H.axis('off')\n",
    "subHSV_H.set_title('H')\n",
    "plt.imshow(imgHSV_H, cmap='gray')\n",
    "subHSV_S = fig.add_subplot(rows, columns, 5)\n",
    "subHSV_S.axis('off')\n",
    "subHSV_S.set_title('S')\n",
    "plt.imshow(imgHSV_S, cmap='gray')\n",
    "subHSV_V = fig.add_subplot(rows, columns, 6)\n",
    "subHSV_V.axis('off')\n",
    "subHSV_V.set_title('V')\n",
    "plt.imshow(imgHSV_V, cmap='gray')\n",
    "\n",
    "subHLS_H = fig.add_subplot(rows, columns, 7)\n",
    "subHLS_H.axis('off')\n",
    "subHLS_H.set_title('H')\n",
    "plt.imshow(imgHLS_H, cmap='gray')\n",
    "subHLS_L = fig.add_subplot(rows, columns, 8)\n",
    "subHLS_L.axis('off')\n",
    "subHLS_L.set_title('L')\n",
    "plt.imshow(imgHLS_L, cmap='gray')\n",
    "subHLS_S = fig.add_subplot(rows, columns, 9)\n",
    "subHLS_S.axis('off')\n",
    "subHLS_S.set_title('S')\n",
    "plt.imshow(imgHLS_S, cmap='gray')\n",
    "\n",
    "subLAB_L = fig.add_subplot(rows, columns, 10)\n",
    "subLAB_L.axis('off')\n",
    "subLAB_L.set_title('L')\n",
    "plt.imshow(imgLAB_L, cmap='gray')\n",
    "subLAB_A = fig.add_subplot(rows, columns, 11)\n",
    "subLAB_A.axis('off')\n",
    "subLAB_A.set_title('A')\n",
    "plt.imshow(imgLAB_A, cmap='gray')\n",
    "subLAB_B = fig.add_subplot(rows, columns, 12)\n",
    "subLAB_B.axis('off')\n",
    "subLAB_B.set_title('B')\n",
    "plt.imshow(imgLAB_B, cmap='gray')\n",
    "\n",
    "subLUV_L = fig.add_subplot(rows, columns, 13)\n",
    "subLUV_L.axis('off')\n",
    "subLUV_L.set_title('L')\n",
    "plt.imshow(imgLUV_L, cmap='gray')\n",
    "subLUV_U = fig.add_subplot(rows, columns, 14)\n",
    "subLUV_U.axis('off')\n",
    "subLUV_U.set_title('U')\n",
    "plt.imshow(imgLUV_U, cmap='gray')\n",
    "subLUV_V = fig.add_subplot(rows, columns, 15)\n",
    "subLUV_V.axis('off')\n",
    "subLUV_V.set_title('V')\n",
    "plt.imshow(imgLUV_V, cmap='gray')\n",
    "\n",
    "plt.show()"
   ]
  },
  {
   "cell_type": "code",
   "execution_count": 51,
   "metadata": {},
   "outputs": [
    {
     "data": {
      "application/vnd.jupyter.widget-view+json": {
       "model_id": "00be9117b7dd41c7a8128f168fc7a06b",
       "version_major": 2,
       "version_minor": 0
      },
      "text/plain": [
       "interactive(children=(IntSlider(value=255, description='highThresh', max=255), Output()), _dom_classes=('widge…"
      ]
     },
     "metadata": {},
     "output_type": "display_data"
    },
    {
     "data": {
      "application/vnd.jupyter.widget-view+json": {
       "model_id": "c6a4f4f3527444ce973dd5fbfae7f6e7",
       "version_major": 2,
       "version_minor": 0
      },
      "text/plain": [
       "interactive(children=(IntSlider(value=150, description='lowThresh', max=255), Output()), _dom_classes=('widget…"
      ]
     },
     "metadata": {},
     "output_type": "display_data"
    },
    {
     "data": {
      "application/vnd.jupyter.widget-view+json": {
       "model_id": "55acc940b138432da537d9f113a5a372",
       "version_major": 2,
       "version_minor": 0
      },
      "text/plain": [
       "interactive(children=(IntSlider(value=255, description='highThresh', max=255), Output()), _dom_classes=('widge…"
      ]
     },
     "metadata": {},
     "output_type": "display_data"
    },
    {
     "data": {
      "application/vnd.jupyter.widget-view+json": {
       "model_id": "cb07bbdf977f4ba48337d611c08d58e2",
       "version_major": 2,
       "version_minor": 0
      },
      "text/plain": [
       "interactive(children=(IntSlider(value=150, description='lowThresh', max=255), Output()), _dom_classes=('widget…"
      ]
     },
     "metadata": {},
     "output_type": "display_data"
    }
   ],
   "source": [
    "def setLowT_RGB_R(lowThresh):\n",
    "    # fig = plt.figure(figsize=(16, 16))\n",
    "    # columns = 3\n",
    "    # rows = 5\n",
    "    if wRGB_R_high.result is not None:\n",
    "        _, threshRGB_R = cv2.threshold(imgRGB_R, lowThresh, wRGB_R_high.result, cv2.THRESH_BINARY)\n",
    "        # _, threshRGB_G = cv2.threshold(imgRGB_G, lowT, wRGB_R_high.result, cv2.THRESH_BINARY)\n",
    "        # _, threshRGB_B = cv2.threshold(imgRGB_B, lowT, wRGB_R_high.result, cv2.THRESH_BINARY)\n",
    "        # _, threshHSV_S = cv2.threshold(imgHSV_S, lowT, wRGB_R_high.result, cv2.THRESH_BINARY)\n",
    "        # _, threshHSV_V = cv2.threshold(imgHSV_V, lowT, wRGB_R_high.result, cv2.THRESH_BINARY)\n",
    "        # _, threshHLS_L = cv2.threshold(imgHLS_L, lowT, wRGB_R_high.result, cv2.THRESH_BINARY)\n",
    "        # _, threshHLS_S = cv2.threshold(imgHLS_S, lowT, wRGB_R_high.result, cv2.THRESH_BINARY)\n",
    "        # _, threshLAB_B = cv2.threshold(imgLAB_B, lowT, wRGB_R_high.result, cv2.THRESH_BINARY)\n",
    "        # _, threshLUV_U = cv2.threshold(imgLUV_U, lowT, wRGB_R_high.result, cv2.THRESH_BINARY)\n",
    "        # _, threshLUV_V = cv2.threshold(imgLUV_V, lowT, wRGB_R_high.result, cv2.THRESH_BINARY)\n",
    "        \n",
    "        # subThreshRGB_R = fig.add_subplot(rows, columns, 1)\n",
    "        fig = plt.figure()\n",
    "        sub = fig.add_subplot(1, 1, 1)\n",
    "        sub.set_title('RGB_R')\n",
    "        plt.imshow(threshRGB_R, cmap='gray')\n",
    "        # subThreshRGB_G = fig.add_subplot(rows, columns, 2)\n",
    "        # plt.imshow(threshRGB_G, cmap='gray')\n",
    "        # subThreshRGB_B = fig.add_subplot(rows, columns, 3)\n",
    "        # plt.imshow(threshRGB_B, cmap='gray')\n",
    "        # subThreshHSV_S = fig.add_subplot(rows, columns, 5)\n",
    "        # plt.imshow(threshHSV_S, cmap='gray')\n",
    "        # subThreshHSV_V = fig.add_subplot(rows, columns, 6)\n",
    "        # plt.imshow(threshHSV_V, cmap='gray')\n",
    "        # subThreshHLS_L = fig.add_subplot(rows, columns, 8)\n",
    "        # plt.imshow(threshHLS_L, cmap='gray')\n",
    "        # subThreshHLS_S = fig.add_subplot(rows, columns, 9)\n",
    "        # plt.imshow(threshHLS_S, cmap='gray')\n",
    "        # subThreshLAB_B = fig.add_subplot(rows, columns, 12)\n",
    "        # plt.imshow(threshLAB_B, cmap='gray')\n",
    "        # subThreshLUV_U = fig.add_subplot(rows, columns, 14)\n",
    "        # plt.imshow(threshLUV_U, cmap='gray')\n",
    "        # subThreshLUV_V = fig.add_subplot(rows, columns, 15)\n",
    "        # plt.imshow(threshLUV_V, cmap='gray')\n",
    "    return lowThresh\n",
    "\n",
    "def setHighT_RGB_R(highThresh):\n",
    "    return highThresh\n",
    "\n",
    "def setHighT_RGB_G(highThresh):\n",
    "    return highThresh\n",
    "\n",
    "def setLowT_RGB_G(lowThresh):\n",
    "    if wRGB_G_high.result is not None:\n",
    "        _, threshRGB_G = cv2.threshold(imgRGB_G, lowThresh, wRGB_R_high.result, cv2.THRESH_BINARY)\n",
    "        fig = plt.figure()\n",
    "        sub = fig.add_subplot(1, 1, 1)\n",
    "        sub.set_title('RGB_G')\n",
    "        plt.imshow(threshRGB_G, cmap='gray')\n",
    "    return lowThresh\n",
    "\n",
    "wRGB_R_high = interactive(setHighT_RGB_R, highThresh=widgets.IntSlider(min=0,max=255,step=1,value=255))\n",
    "wRGB_R_low = interactive(setLowT_RGB_R, lowThresh=widgets.IntSlider(min=0,max=255,step=1,value=150))\n",
    "display(wRGB_R_high, wRGB_R_low)\n",
    "\n",
    "wRGB_G_high = interactive(setHighT_RGB_G, highThresh=widgets.IntSlider(min=0,max=255,step=1,value=255))\n",
    "wRGB_G_low = interactive(setLowT_RGB_G, lowThresh=widgets.IntSlider(min=0,max=255,step=1,value=150))\n",
    "display(wRGB_G_high, wRGB_G_low)\n",
    "\n"
   ]
  },
  {
   "cell_type": "code",
   "execution_count": null,
   "metadata": {},
   "outputs": [],
   "source": []
  }
 ],
 "metadata": {
  "kernelspec": {
   "display_name": "Python 2",
   "language": "python",
   "name": "python2"
  },
  "language_info": {
   "codemirror_mode": {
    "name": "ipython",
    "version": 3
   },
   "file_extension": ".py",
   "mimetype": "text/x-python",
   "name": "python",
   "nbconvert_exporter": "python",
   "pygments_lexer": "ipython3",
   "version": "3.6.7"
  }
 },
 "nbformat": 4,
 "nbformat_minor": 1
}
